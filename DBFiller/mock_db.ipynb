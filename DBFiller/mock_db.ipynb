{
 "cells": [
  {
   "cell_type": "code",
   "execution_count": 2,
   "id": "dc63cd82",
   "metadata": {},
   "outputs": [],
   "source": [
    "import sqlite3\n",
    "from datetime import datetime, timedelta\n",
    "import random"
   ]
  },
  {
   "cell_type": "code",
   "execution_count": 15,
   "id": "ef58c471",
   "metadata": {},
   "outputs": [],
   "source": [
    "conn = sqlite3.connect(\"../LaptimeBaseAPI/LapTimeManager.db\")\n",
    "cursor = conn.cursor()"
   ]
  },
  {
   "cell_type": "code",
   "execution_count": 4,
   "id": "2aad93d9",
   "metadata": {},
   "outputs": [
    {
     "data": {
      "text/plain": [
       "<sqlite3.Cursor at 0x24b454b3cc0>"
      ]
     },
     "execution_count": 4,
     "metadata": {},
     "output_type": "execute_result"
    }
   ],
   "source": [
    "cars = [(None, car_class) for car_class in ['GT3', 'GT4', 'TCX']]\n",
    "cursor.executemany(\"INSERT INTO car (id, class) VALUES (?, ?);\", cars)"
   ]
  },
  {
   "cell_type": "code",
   "execution_count": 5,
   "id": "4ef0f2e1",
   "metadata": {},
   "outputs": [
    {
     "data": {
      "text/plain": [
       "<sqlite3.Cursor at 0x24b454b3cc0>"
      ]
     },
     "execution_count": 5,
     "metadata": {},
     "output_type": "execute_result"
    }
   ],
   "source": [
    "tracks = [(None, track_name) for track_name in ['Hungaroring', 'Nurburgring']]\n",
    "cursor.executemany(\"INSERT INTO track (id, name) VALUES (?, ?);\", tracks)"
   ]
  },
  {
   "cell_type": "code",
   "execution_count": 7,
   "id": "3f509331",
   "metadata": {},
   "outputs": [
    {
     "data": {
      "text/plain": [
       "<sqlite3.Cursor at 0x24b454b3cc0>"
      ]
     },
     "execution_count": 7,
     "metadata": {},
     "output_type": "execute_result"
    }
   ],
   "source": [
    "users = [(None, \"admin\", \"AQAAAAEAACcQAAAAEOxFNQ0K7J6+0azkMQDXWHtrhnoFsk444McfCUxvEMTtosg6JSg0on2iF0xQ2EaXDQ==\", \"TRUE\"),\n",
    "         (None, \"boss\", \"AQAAAAEAACcQAAAAELfk3izhFk7E9rHUb+wuXmtR5BOQeakf0G2XXoiqFt6LsERNNg1fAoWkRjrS0LcOnA==\", \"FALSE\")]\n",
    "cursor.executemany(\"INSERT INTO user (id, username, password, is_admin) VALUES (?, ?, ?, ?);\", users)"
   ]
  },
  {
   "cell_type": "code",
   "execution_count": 8,
   "id": "4424124b",
   "metadata": {},
   "outputs": [
    {
     "data": {
      "text/plain": [
       "<sqlite3.Cursor at 0x24b454b3cc0>"
      ]
     },
     "execution_count": 8,
     "metadata": {},
     "output_type": "execute_result"
    }
   ],
   "source": [
    "cursor.execute(\"SELECT id FROM track;\")\n",
    "track_ids = [row[0] for row in cursor.fetchall()]\n",
    "sessions = []\n",
    "for i in range(5):\n",
    "    held_at = datetime.now() - timedelta(days=i)\n",
    "    sessions.append((None, held_at.isoformat(), random.randint(15, 30), random.randint(20, 45), random.choice(track_ids)))\n",
    "cursor.executemany(\"INSERT INTO session (id, held_at, ambient_temp, track_temp, track_id) VALUES (?, ?, ?, ?, ?);\", sessions)"
   ]
  },
  {
   "cell_type": "code",
   "execution_count": 9,
   "id": "9694613d",
   "metadata": {},
   "outputs": [
    {
     "data": {
      "text/plain": [
       "<sqlite3.Cursor at 0x24b454b3cc0>"
      ]
     },
     "execution_count": 9,
     "metadata": {},
     "output_type": "execute_result"
    }
   ],
   "source": [
    "cursor.execute(\"SELECT id FROM user;\")\n",
    "team_owner_ids = [row[0] for row in cursor.fetchall()]\n",
    "cursor.execute(\"SELECT id FROM car;\")\n",
    "car_class_ids = [row[0] for row in cursor.fetchall()]\n",
    "team_names = ['Rhoncus', 'Pharetra Mi', 'Suspendisse', 'Potenti', 'Aenean', 'Vestibulum']\n",
    "teams = [\n",
    "    (team_owner_id, random.choice(car_class_ids), f\"{random.choice(team_names)}_{team_owner_id}\")\n",
    "    for team_owner_id in team_owner_ids\n",
    "]\n",
    "cursor.executemany(\"INSERT INTO team (user_id, car_id, name) VALUES (?, ?, ?);\", teams)"
   ]
  },
  {
   "cell_type": "code",
   "execution_count": 10,
   "id": "a7faa697",
   "metadata": {},
   "outputs": [
    {
     "data": {
      "text/plain": [
       "<sqlite3.Cursor at 0x24b454b3cc0>"
      ]
     },
     "execution_count": 10,
     "metadata": {},
     "output_type": "execute_result"
    }
   ],
   "source": [
    "cursor.execute(\"SELECT id FROM session;\")\n",
    "session_ids = [row[0] for row in cursor.fetchall()]\n",
    "laptimes = []\n",
    "for team_id in team_owner_ids:  # team_id = user_id in team table\n",
    "    for sid in random.sample(session_ids, k=2):\n",
    "        lap_time = f\"1:{random.randint(42, 46):02}.{random.randint(0, 999):03}\"\n",
    "        created_at = datetime.now().isoformat()\n",
    "        laptimes.append((None, lap_time, created_at, team_id, sid))\n",
    "cursor.executemany(\"INSERT INTO laptime (id, time, created_at, team_id, session_id) VALUES (?, ?, ?, ?, ?);\", laptimes)"
   ]
  },
  {
   "cell_type": "markdown",
   "id": "e0fe2e33",
   "metadata": {},
   "source": [
    "## Inserting laps for Hungaroring only to simulate one single training session (session id 2) "
   ]
  },
  {
   "cell_type": "code",
   "execution_count": null,
   "id": "c189291b",
   "metadata": {},
   "outputs": [],
   "source": [
    "laptimes = []\n",
    "\n",
    "for _ in range(300):\n",
    "    for team_id in team_owner_ids:  # team_id = user_id in team table\n",
    "            lap_time = f\"1:{random.randint(42,46):02}.{random.randint(0,999):03}\"\n",
    "            created_at = datetime.now().isoformat()\n",
    "            laptimes.append((None, lap_time, created_at, team_id, 2))\n",
    "\n",
    "cursor.executemany(\"INSERT INTO laptime (id, time, created_at, team_id, session_id) VALUES (?, ?, ?, ?, ?);\", laptimes)"
   ]
  },
  {
   "cell_type": "code",
   "execution_count": 11,
   "id": "2757142c",
   "metadata": {},
   "outputs": [],
   "source": [
    "conn.commit()\n",
    "conn.close()"
   ]
  }
 ],
 "metadata": {
  "kernelspec": {
   "display_name": "venv",
   "language": "python",
   "name": "python3"
  },
  "language_info": {
   "codemirror_mode": {
    "name": "ipython",
    "version": 3
   },
   "file_extension": ".py",
   "mimetype": "text/x-python",
   "name": "python",
   "nbconvert_exporter": "python",
   "pygments_lexer": "ipython3",
   "version": "3.11.9"
  }
 },
 "nbformat": 4,
 "nbformat_minor": 5
}
